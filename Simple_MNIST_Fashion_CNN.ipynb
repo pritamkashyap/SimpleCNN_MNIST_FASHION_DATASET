{
  "nbformat": 4,
  "nbformat_minor": 0,
  "metadata": {
    "colab": {
      "name": "Simple_MNIST-Fashion_CNN.ipynb",
      "provenance": [],
      "collapsed_sections": []
    },
    "kernelspec": {
      "name": "python3",
      "display_name": "Python 3"
    }
  },
  "cells": [
    {
      "cell_type": "code",
      "metadata": {
        "id": "tmk8ulHqrK1l",
        "colab_type": "code",
        "colab": {
          "base_uri": "https://localhost:8080/",
          "height": 35
        },
        "outputId": "90ab640d-ea05-472b-aac6-8a6f7779594e"
      },
      "source": [
        "from keras.layers import *\n",
        "from keras.models import Sequential\n",
        "import matplotlib.pyplot as plt\n"
      ],
      "execution_count": 1,
      "outputs": [
        {
          "output_type": "stream",
          "text": [
            "Using TensorFlow backend.\n"
          ],
          "name": "stderr"
        }
      ]
    },
    {
      "cell_type": "code",
      "metadata": {
        "id": "XTcRZMMisdLE",
        "colab_type": "code",
        "colab": {
          "base_uri": "https://localhost:8080/",
          "height": 161
        },
        "outputId": "e8eb3c46-2ae1-4fbd-c9df-d7012e86b3e6"
      },
      "source": [
        "#Dataset\n",
        "from keras.datasets import fashion_mnist\n",
        "from keras.utils import to_categorical\n",
        "(XTrain,YTrain),(XTest,YTest) = fashion_mnist.load_data()"
      ],
      "execution_count": 3,
      "outputs": [
        {
          "output_type": "stream",
          "text": [
            "Downloading data from http://fashion-mnist.s3-website.eu-central-1.amazonaws.com/train-labels-idx1-ubyte.gz\n",
            "32768/29515 [=================================] - 0s 0us/step\n",
            "Downloading data from http://fashion-mnist.s3-website.eu-central-1.amazonaws.com/train-images-idx3-ubyte.gz\n",
            "26427392/26421880 [==============================] - 0s 0us/step\n",
            "Downloading data from http://fashion-mnist.s3-website.eu-central-1.amazonaws.com/t10k-labels-idx1-ubyte.gz\n",
            "8192/5148 [===============================================] - 0s 0us/step\n",
            "Downloading data from http://fashion-mnist.s3-website.eu-central-1.amazonaws.com/t10k-images-idx3-ubyte.gz\n",
            "4423680/4422102 [==============================] - 0s 0us/step\n"
          ],
          "name": "stdout"
        }
      ]
    },
    {
      "cell_type": "code",
      "metadata": {
        "id": "bXkWtoZvst-l",
        "colab_type": "code",
        "colab": {
          "base_uri": "https://localhost:8080/",
          "height": 629
        },
        "outputId": "72c136d7-7bdd-4f55-8fa7-6822af325870"
      },
      "source": [
        "# Build a Model \n",
        "\n",
        "model = Sequential()\n",
        "model.add(Conv2D(32,(3,3),activation='relu',input_shape=(28,28,1)))\n",
        "model.add(Dropout(0.25))\n",
        "model.add(MaxPool2D((2,2)))\n",
        "\n",
        "model.add(Conv2D(64,(3,3),activation='relu',input_shape=(28,28,1)))\n",
        "model.add(Dropout(0.25))\n",
        "model.add(MaxPool2D((2,2)))\n",
        "\n",
        "\n",
        "model.add(Conv2D(128,(3,3),activation='relu',input_shape=(28,28,1)))\n",
        "model.add(Dropout(0.25))\n",
        "\n",
        "model.add(Flatten())\n",
        "\n",
        "model.add(Dense(1024,activation='relu'))\n",
        "model.add(Dense(256,activation='relu'))\n",
        "model.add(Dense(64,activation='relu'))\n",
        "model.add(Dense(10,activation='softmax'))\n",
        "model.summary()"
      ],
      "execution_count": 4,
      "outputs": [
        {
          "output_type": "stream",
          "text": [
            "Model: \"sequential_1\"\n",
            "_________________________________________________________________\n",
            "Layer (type)                 Output Shape              Param #   \n",
            "=================================================================\n",
            "conv2d_1 (Conv2D)            (None, 26, 26, 32)        320       \n",
            "_________________________________________________________________\n",
            "dropout_1 (Dropout)          (None, 26, 26, 32)        0         \n",
            "_________________________________________________________________\n",
            "max_pooling2d_1 (MaxPooling2 (None, 13, 13, 32)        0         \n",
            "_________________________________________________________________\n",
            "conv2d_2 (Conv2D)            (None, 11, 11, 64)        18496     \n",
            "_________________________________________________________________\n",
            "dropout_2 (Dropout)          (None, 11, 11, 64)        0         \n",
            "_________________________________________________________________\n",
            "max_pooling2d_2 (MaxPooling2 (None, 5, 5, 64)          0         \n",
            "_________________________________________________________________\n",
            "conv2d_3 (Conv2D)            (None, 3, 3, 128)         73856     \n",
            "_________________________________________________________________\n",
            "dropout_3 (Dropout)          (None, 3, 3, 128)         0         \n",
            "_________________________________________________________________\n",
            "flatten_1 (Flatten)          (None, 1152)              0         \n",
            "_________________________________________________________________\n",
            "dense_1 (Dense)              (None, 1024)              1180672   \n",
            "_________________________________________________________________\n",
            "dense_2 (Dense)              (None, 256)               262400    \n",
            "_________________________________________________________________\n",
            "dense_3 (Dense)              (None, 64)                16448     \n",
            "_________________________________________________________________\n",
            "dense_4 (Dense)              (None, 10)                650       \n",
            "=================================================================\n",
            "Total params: 1,552,842\n",
            "Trainable params: 1,552,842\n",
            "Non-trainable params: 0\n",
            "_________________________________________________________________\n"
          ],
          "name": "stdout"
        }
      ]
    },
    {
      "cell_type": "code",
      "metadata": {
        "id": "5Kky8DDgtiZn",
        "colab_type": "code",
        "colab": {
          "base_uri": "https://localhost:8080/",
          "height": 53
        },
        "outputId": "2d97be9e-80d4-4330-a8a0-d090ed6ae659"
      },
      "source": [
        "def preprocess_data(X,Y):\n",
        "    X = X.reshape((-1,28,28,1))\n",
        "    X = X/255.0\n",
        "    Y = to_categorical(Y)\n",
        "    return X,Y\n",
        "\n",
        "XTrain,YTrain = preprocess_data(XTrain,YTrain)\n",
        "print(XTrain.shape,YTrain.shape)\n",
        "\n",
        "XTest,YTest = preprocess_data(XTest,YTest)\n",
        "print(XTest.shape,YTest.shape)"
      ],
      "execution_count": 5,
      "outputs": [
        {
          "output_type": "stream",
          "text": [
            "(60000, 28, 28, 1) (60000, 10)\n",
            "(10000, 28, 28, 1) (10000, 10)\n"
          ],
          "name": "stdout"
        }
      ]
    },
    {
      "cell_type": "code",
      "metadata": {
        "id": "w8H3dtz8Fp6k",
        "colab_type": "code",
        "colab": {
          "base_uri": "https://localhost:8080/",
          "height": 755
        },
        "outputId": "e8b826e6-77fc-4f0b-d20b-f9c7da23682e"
      },
      "source": [
        "# Model Compilation\n",
        "model.compile(optimizer='adam',loss='categorical_crossentropy',metrics=['accuracy'])\n",
        "hist = model.fit(XTrain,YTrain,epochs=20,validation_split=0.1,batch_size=128)"
      ],
      "execution_count": 6,
      "outputs": [
        {
          "output_type": "stream",
          "text": [
            "Train on 54000 samples, validate on 6000 samples\n",
            "Epoch 1/20\n",
            "54000/54000 [==============================] - 73s 1ms/step - loss: 0.5834 - accuracy: 0.7811 - val_loss: 0.4564 - val_accuracy: 0.8517\n",
            "Epoch 2/20\n",
            "54000/54000 [==============================] - 72s 1ms/step - loss: 0.3699 - accuracy: 0.8624 - val_loss: 0.3518 - val_accuracy: 0.8743\n",
            "Epoch 3/20\n",
            "54000/54000 [==============================] - 72s 1ms/step - loss: 0.3155 - accuracy: 0.8832 - val_loss: 0.3159 - val_accuracy: 0.8867\n",
            "Epoch 4/20\n",
            "54000/54000 [==============================] - 77s 1ms/step - loss: 0.2884 - accuracy: 0.8939 - val_loss: 0.3200 - val_accuracy: 0.8948\n",
            "Epoch 5/20\n",
            "54000/54000 [==============================] - 72s 1ms/step - loss: 0.2658 - accuracy: 0.9004 - val_loss: 0.2700 - val_accuracy: 0.9037\n",
            "Epoch 6/20\n",
            "54000/54000 [==============================] - 71s 1ms/step - loss: 0.2489 - accuracy: 0.9065 - val_loss: 0.2809 - val_accuracy: 0.9012\n",
            "Epoch 7/20\n",
            "54000/54000 [==============================] - 71s 1ms/step - loss: 0.2354 - accuracy: 0.9119 - val_loss: 0.2691 - val_accuracy: 0.9085\n",
            "Epoch 8/20\n",
            "54000/54000 [==============================] - 70s 1ms/step - loss: 0.2235 - accuracy: 0.9151 - val_loss: 0.2692 - val_accuracy: 0.9062\n",
            "Epoch 9/20\n",
            "54000/54000 [==============================] - 69s 1ms/step - loss: 0.2126 - accuracy: 0.9195 - val_loss: 0.2523 - val_accuracy: 0.9085\n",
            "Epoch 10/20\n",
            "54000/54000 [==============================] - 70s 1ms/step - loss: 0.2034 - accuracy: 0.9225 - val_loss: 0.2337 - val_accuracy: 0.9173\n",
            "Epoch 11/20\n",
            "54000/54000 [==============================] - 70s 1ms/step - loss: 0.1928 - accuracy: 0.9268 - val_loss: 0.2343 - val_accuracy: 0.9173\n",
            "Epoch 12/20\n",
            "54000/54000 [==============================] - 70s 1ms/step - loss: 0.1853 - accuracy: 0.9288 - val_loss: 0.2439 - val_accuracy: 0.9165\n",
            "Epoch 13/20\n",
            "54000/54000 [==============================] - 75s 1ms/step - loss: 0.1785 - accuracy: 0.9315 - val_loss: 0.2255 - val_accuracy: 0.9203\n",
            "Epoch 14/20\n",
            "54000/54000 [==============================] - 71s 1ms/step - loss: 0.1679 - accuracy: 0.9361 - val_loss: 0.2276 - val_accuracy: 0.9172\n",
            "Epoch 15/20\n",
            "54000/54000 [==============================] - 71s 1ms/step - loss: 0.1639 - accuracy: 0.9370 - val_loss: 0.2381 - val_accuracy: 0.9123\n",
            "Epoch 16/20\n",
            "54000/54000 [==============================] - 70s 1ms/step - loss: 0.1551 - accuracy: 0.9408 - val_loss: 0.2303 - val_accuracy: 0.9188\n",
            "Epoch 17/20\n",
            "54000/54000 [==============================] - 70s 1ms/step - loss: 0.1517 - accuracy: 0.9416 - val_loss: 0.2393 - val_accuracy: 0.9140\n",
            "Epoch 18/20\n",
            "54000/54000 [==============================] - 70s 1ms/step - loss: 0.1409 - accuracy: 0.9468 - val_loss: 0.2372 - val_accuracy: 0.9153\n",
            "Epoch 19/20\n",
            "54000/54000 [==============================] - 71s 1ms/step - loss: 0.1365 - accuracy: 0.9479 - val_loss: 0.2288 - val_accuracy: 0.9178\n",
            "Epoch 20/20\n",
            "54000/54000 [==============================] - 71s 1ms/step - loss: 0.1312 - accuracy: 0.9493 - val_loss: 0.2382 - val_accuracy: 0.9177\n"
          ],
          "name": "stdout"
        }
      ]
    },
    {
      "cell_type": "code",
      "metadata": {
        "id": "oDmjs7HjuPH0",
        "colab_type": "code",
        "colab": {
          "base_uri": "https://localhost:8080/",
          "height": 265
        },
        "outputId": "397146f7-2f71-4220-a8e4-00ca0d8bb1cc"
      },
      "source": [
        "plt.figure(0)\n",
        "plt.plot(hist.history['loss'],'g')\n",
        "plt.plot(hist.history['val_loss'],'b')\n",
        "plt.plot(hist.history['accuracy'],'r')\n",
        "plt.plot(hist.history['val_accuracy'],'black')\n",
        "plt.show()"
      ],
      "execution_count": 7,
      "outputs": [
        {
          "output_type": "display_data",
          "data": {
            "image/png": "[encoded data removed]",
            "text/plain": [
              "<Figure size 432x288 with 1 Axes>"
            ]
          },
          "metadata": {
            "tags": [],
            "needs_background": "light"
          }
        }
      ]
    },
    {
      "cell_type": "code",
      "metadata": {
        "id": "whcu1pf2u5Bd",
        "colab_type": "code",
        "colab": {
          "base_uri": "https://localhost:8080/",
          "height": 53
        },
        "outputId": "525c02ef-cb03-4d30-e3d5-b5e98583661c"
      },
      "source": [
        "model.evaluate(XTest,YTest)"
      ],
      "execution_count": 8,
      "outputs": [
        {
          "output_type": "stream",
          "text": [
            "10000/10000 [==============================] - 3s 344us/step\n"
          ],
          "name": "stdout"
        },
        {
          "output_type": "execute_result",
          "data": {
            "text/plain": [
              "[0.2546260567188263, 0.9107000231742859]"
            ]
          },
          "metadata": {
            "tags": []
          },
          "execution_count": 8
        }
      ]
    },
    {
      "cell_type": "code",
      "metadata": {
        "id": "SU4FlwW7u49c",
        "colab_type": "code",
        "colab": {
          "base_uri": "https://localhost:8080/",
          "height": 1000
        },
        "outputId": "1ffd6df4-a53d-46dc-b7d3-8a602140c330"
      },
      "source": [
        "# example of loading the mnist dataset\n",
        "\n",
        "# summarize loaded dataset\n",
        "print('Train: X=%s, y=%s' % (XTrain.shape, YTrain.shape))\n",
        "print('Test: X=%s, y=%s' % (XTest.shape, YTest.shape))\n",
        "# plot first few images\n",
        "for i in range(10):\n",
        "    plt.imshow(XTrain[i].reshape(28,28),cmap='gray')\n",
        "    plt.show()\n",
        "plt.show()"
      ],
      "execution_count": 17,
      "outputs": [
        {
          "output_type": "stream",
          "text": [
            "Train: X=(60000, 28, 28, 1), y=(60000, 10)\n",
            "Test: X=(10000, 28, 28, 1), y=(10000, 10)\n"
          ],
          "name": "stdout"
        },
        {
          "output_type": "display_data",
          "data": {
            "image/png": "[encoded data removed]",
            "text/plain": [
              "<Figure size 432x288 with 1 Axes>"
            ]
          },
          "metadata": {
            "tags": [],
            "needs_background": "light"
          }
        },
        {
          "output_type": "display_data",
          "data": {
            "image/png": "[encoded data removed]",
            "text/plain": [
              "<Figure size 432x288 with 1 Axes>"
            ]
          },
          "metadata": {
            "tags": [],
            "needs_background": "light"
          }
        },
        {
          "output_type": "display_data",
          "data": {
            "image/png": "[encoded data removed]",
            "text/plain": [
              "<Figure size 432x288 with 1 Axes>"
            ]
          },
          "metadata": {
            "tags": [],
            "needs_background": "light"
          }
        },
        {
          "output_type": "display_data",
          "data": {
            "image/png": "[encoded data removed]",
            "text/plain": [
              "<Figure size 432x288 with 1 Axes>"
            ]
          },
          "metadata": {
            "tags": [],
            "needs_background": "light"
          }
        },
        {
          "output_type": "display_data",
          "data": {
            "image/png": "[encoded data removed]",
            "text/plain": [
              "<Figure size 432x288 with 1 Axes>"
            ]
          },
          "metadata": {
            "tags": [],
            "needs_background": "light"
          }
        },
        {
          "output_type": "display_data",
          "data": {
            "image/png": "[encoded data removed]",
            "text/plain": [
              "<Figure size 432x288 with 1 Axes>"
            ]
          },
          "metadata": {
            "tags": [],
            "needs_background": "light"
          }
        },
        {
          "output_type": "display_data",
          "data": {
            "image/png": "[encoded data removed]",
            "text/plain": [
              "<Figure size 432x288 with 1 Axes>"
            ]
          },
          "metadata": {
            "tags": [],
            "needs_background": "light"
          }
        },
        {
          "output_type": "display_data",
          "data": {
            "image/png": "[encoded data removed]",
            "text/plain": [
              "<Figure size 432x288 with 1 Axes>"
            ]
          },
          "metadata": {
            "tags": [],
            "needs_background": "light"
          }
        },
        {
          "output_type": "display_data",
          "data": {
            "image/png": "[encoded data removed]",
            "text/plain": [
              "<Figure size 432x288 with 1 Axes>"
            ]
          },
          "metadata": {
            "tags": [],
            "needs_background": "light"
          }
        },
        {
          "output_type": "display_data",
          "data": {
            "image/png": "[encoded data removed]",
            "text/plain": [
              "<Figure size 432x288 with 1 Axes>"
            ]
          },
          "metadata": {
            "tags": [],
            "needs_background": "light"
          }
        }
      ]
    },
    {
      "cell_type": "code",
      "metadata": {
        "id": "IOGIKBbbu47u",
        "colab_type": "code",
        "colab": {}
      },
      "source": [
        ""
      ],
      "execution_count": null,
      "outputs": []
    },
    {
      "cell_type": "code",
      "metadata": {
        "id": "mMw2raE3u4wy",
        "colab_type": "code",
        "colab": {}
      },
      "source": [
        ""
      ],
      "execution_count": null,
      "outputs": []
    },
    {
      "cell_type": "code",
      "metadata": {
        "id": "rAweIT0mu4jv",
        "colab_type": "code",
        "colab": {}
      },
      "source": [
        ""
      ],
      "execution_count": null,
      "outputs": []
    },
    {
      "cell_type": "markdown",
      "metadata": {
        "id": "2kA8TL5guMi9",
        "colab_type": "text"
      },
      "source": [
        ""
      ]
    }
  ]
}