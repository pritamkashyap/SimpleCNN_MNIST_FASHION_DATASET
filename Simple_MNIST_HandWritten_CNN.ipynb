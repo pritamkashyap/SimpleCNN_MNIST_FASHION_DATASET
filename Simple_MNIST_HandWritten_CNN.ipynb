{
  "nbformat": 4,
  "nbformat_minor": 0,
  "metadata": {
    "colab": {
      "name": "Simple_MNIST-HandWritten_CNN.ipynb",
      "provenance": []
    },
    "kernelspec": {
      "name": "python3",
      "display_name": "Python 3"
    },
    "accelerator": "GPU"
  },
  "cells": [
    {
      "cell_type": "code",
      "metadata": {
        "id": "5UQETGDk07a3",
        "colab_type": "code",
        "colab": {}
      },
      "source": [
        "from keras.layers import *\n",
        "from keras.models import Sequential\n",
        "import matplotlib.pyplot as plt\n"
      ],
      "execution_count": 18,
      "outputs": []
    },
    {
      "cell_type": "code",
      "metadata": {
        "id": "WST-1Hu11PYs",
        "colab_type": "code",
        "colab": {
          "base_uri": "https://localhost:8080/",
          "height": 629
        },
        "outputId": "4f1e9d37-123e-47e7-b8f1-02f82795193c"
      },
      "source": [
        "# Build a Model \n",
        "\n",
        "model = Sequential()\n",
        "model.add(Conv2D(32,(3,3),activation='relu',input_shape=(28,28,1)))\n",
        "model.add(Dropout(0.25))\n",
        "model.add(MaxPool2D((2,2)))\n",
        "\n",
        "model.add(Conv2D(64,(3,3),activation='relu',input_shape=(28,28,1)))\n",
        "model.add(Dropout(0.25))\n",
        "model.add(MaxPool2D((2,2)))\n",
        "\n",
        "\n",
        "model.add(Conv2D(128,(3,3),activation='relu',input_shape=(28,28,1)))\n",
        "model.add(Dropout(0.25))\n",
        "\n",
        "model.add(Flatten())\n",
        "\n",
        "model.add(Dense(1024,activation='relu'))\n",
        "model.add(Dense(256,activation='relu'))\n",
        "model.add(Dense(64,activation='relu'))\n",
        "model.add(Dense(10,activation='softmax'))\n",
        "model.summary()"
      ],
      "execution_count": 19,
      "outputs": [
        {
          "output_type": "stream",
          "text": [
            "Model: \"sequential_3\"\n",
            "_________________________________________________________________\n",
            "Layer (type)                 Output Shape              Param #   \n",
            "=================================================================\n",
            "conv2d_7 (Conv2D)            (None, 26, 26, 32)        320       \n",
            "_________________________________________________________________\n",
            "dropout_1 (Dropout)          (None, 26, 26, 32)        0         \n",
            "_________________________________________________________________\n",
            "max_pooling2d_3 (MaxPooling2 (None, 13, 13, 32)        0         \n",
            "_________________________________________________________________\n",
            "conv2d_8 (Conv2D)            (None, 11, 11, 64)        18496     \n",
            "_________________________________________________________________\n",
            "dropout_2 (Dropout)          (None, 11, 11, 64)        0         \n",
            "_________________________________________________________________\n",
            "max_pooling2d_4 (MaxPooling2 (None, 5, 5, 64)          0         \n",
            "_________________________________________________________________\n",
            "conv2d_9 (Conv2D)            (None, 3, 3, 128)         73856     \n",
            "_________________________________________________________________\n",
            "dropout_3 (Dropout)          (None, 3, 3, 128)         0         \n",
            "_________________________________________________________________\n",
            "flatten_3 (Flatten)          (None, 1152)              0         \n",
            "_________________________________________________________________\n",
            "dense_5 (Dense)              (None, 1024)              1180672   \n",
            "_________________________________________________________________\n",
            "dense_6 (Dense)              (None, 256)               262400    \n",
            "_________________________________________________________________\n",
            "dense_7 (Dense)              (None, 64)                16448     \n",
            "_________________________________________________________________\n",
            "dense_8 (Dense)              (None, 10)                650       \n",
            "=================================================================\n",
            "Total params: 1,552,842\n",
            "Trainable params: 1,552,842\n",
            "Non-trainable params: 0\n",
            "_________________________________________________________________\n"
          ],
          "name": "stdout"
        }
      ]
    },
    {
      "cell_type": "code",
      "metadata": {
        "id": "8mr8Swri1Tvw",
        "colab_type": "code",
        "colab": {}
      },
      "source": [
        "#Dataset\n",
        "from keras.datasets import mnist\n",
        "from keras.utils import to_categorical\n",
        "(XTrain,YTrain),(XTest,YTest) = mnist.load_data()"
      ],
      "execution_count": 20,
      "outputs": []
    },
    {
      "cell_type": "code",
      "metadata": {
        "id": "imDDq6a81bLp",
        "colab_type": "code",
        "colab": {
          "base_uri": "https://localhost:8080/",
          "height": 53
        },
        "outputId": "b258c196-1217-4d09-ce2e-6c817af1c268"
      },
      "source": [
        "def preprocess_data(X,Y):\n",
        "    X = X.reshape((-1,28,28,1))\n",
        "    X = X/255.0\n",
        "    Y = to_categorical(Y)\n",
        "    return X,Y\n",
        "\n",
        "XTrain,YTrain = preprocess_data(XTrain,YTrain)\n",
        "print(XTrain.shape,YTrain.shape)\n",
        "\n",
        "XTest,YTest = preprocess_data(XTest,YTest)\n",
        "print(XTest.shape,YTest.shape)"
      ],
      "execution_count": 21,
      "outputs": [
        {
          "output_type": "stream",
          "text": [
            "(60000, 28, 28, 1) (60000, 10)\n",
            "(10000, 28, 28, 1) (10000, 10)\n"
          ],
          "name": "stdout"
        }
      ]
    },
    {
      "cell_type": "code",
      "metadata": {
        "id": "kFn8D-3M1eAb",
        "colab_type": "code",
        "colab": {
          "base_uri": "https://localhost:8080/",
          "height": 755
        },
        "outputId": "d88a75dc-a56b-42bc-f975-0b0244dd51ea"
      },
      "source": [
        "# Model Compilation\n",
        "model.compile(optimizer='adam',loss='categorical_crossentropy',metrics=['accuracy'])\n",
        "hist = model.fit(XTrain,YTrain,epochs=20,validation_split=0.1,batch_size=128)"
      ],
      "execution_count": 22,
      "outputs": [
        {
          "output_type": "stream",
          "text": [
            "Train on 54000 samples, validate on 6000 samples\n",
            "Epoch 1/20\n",
            "54000/54000 [==============================] - 4s 74us/step - loss: 0.2075 - accuracy: 0.9340 - val_loss: 0.0878 - val_accuracy: 0.9810\n",
            "Epoch 2/20\n",
            "54000/54000 [==============================] - 4s 66us/step - loss: 0.0650 - accuracy: 0.9801 - val_loss: 0.0440 - val_accuracy: 0.9895\n",
            "Epoch 3/20\n",
            "54000/54000 [==============================] - 4s 66us/step - loss: 0.0464 - accuracy: 0.9855 - val_loss: 0.0416 - val_accuracy: 0.9915\n",
            "Epoch 4/20\n",
            "54000/54000 [==============================] - 4s 66us/step - loss: 0.0379 - accuracy: 0.9881 - val_loss: 0.0389 - val_accuracy: 0.9892\n",
            "Epoch 5/20\n",
            "54000/54000 [==============================] - 4s 66us/step - loss: 0.0341 - accuracy: 0.9893 - val_loss: 0.0326 - val_accuracy: 0.9918\n",
            "Epoch 6/20\n",
            "54000/54000 [==============================] - 4s 66us/step - loss: 0.0290 - accuracy: 0.9910 - val_loss: 0.0308 - val_accuracy: 0.9923\n",
            "Epoch 7/20\n",
            "54000/54000 [==============================] - 4s 67us/step - loss: 0.0259 - accuracy: 0.9922 - val_loss: 0.0299 - val_accuracy: 0.9928\n",
            "Epoch 8/20\n",
            "54000/54000 [==============================] - 4s 66us/step - loss: 0.0238 - accuracy: 0.9926 - val_loss: 0.0385 - val_accuracy: 0.9888\n",
            "Epoch 9/20\n",
            "54000/54000 [==============================] - 4s 66us/step - loss: 0.0227 - accuracy: 0.9930 - val_loss: 0.0260 - val_accuracy: 0.9927\n",
            "Epoch 10/20\n",
            "54000/54000 [==============================] - 4s 66us/step - loss: 0.0217 - accuracy: 0.9932 - val_loss: 0.0332 - val_accuracy: 0.9913\n",
            "Epoch 11/20\n",
            "54000/54000 [==============================] - 4s 66us/step - loss: 0.0195 - accuracy: 0.9941 - val_loss: 0.0309 - val_accuracy: 0.9917\n",
            "Epoch 12/20\n",
            "54000/54000 [==============================] - 4s 71us/step - loss: 0.0177 - accuracy: 0.9944 - val_loss: 0.0254 - val_accuracy: 0.9942\n",
            "Epoch 13/20\n",
            "54000/54000 [==============================] - 4s 70us/step - loss: 0.0170 - accuracy: 0.9950 - val_loss: 0.0259 - val_accuracy: 0.9925\n",
            "Epoch 14/20\n",
            "54000/54000 [==============================] - 4s 68us/step - loss: 0.0176 - accuracy: 0.9947 - val_loss: 0.0268 - val_accuracy: 0.9935\n",
            "Epoch 15/20\n",
            "54000/54000 [==============================] - 4s 65us/step - loss: 0.0157 - accuracy: 0.9950 - val_loss: 0.0274 - val_accuracy: 0.9928\n",
            "Epoch 16/20\n",
            "54000/54000 [==============================] - 4s 66us/step - loss: 0.0151 - accuracy: 0.9954 - val_loss: 0.0248 - val_accuracy: 0.9947\n",
            "Epoch 17/20\n",
            "54000/54000 [==============================] - 4s 66us/step - loss: 0.0151 - accuracy: 0.9957 - val_loss: 0.0207 - val_accuracy: 0.9943\n",
            "Epoch 18/20\n",
            "54000/54000 [==============================] - 4s 66us/step - loss: 0.0152 - accuracy: 0.9952 - val_loss: 0.0274 - val_accuracy: 0.9928\n",
            "Epoch 19/20\n",
            "54000/54000 [==============================] - 4s 66us/step - loss: 0.0112 - accuracy: 0.9965 - val_loss: 0.0314 - val_accuracy: 0.9925\n",
            "Epoch 20/20\n",
            "54000/54000 [==============================] - 4s 66us/step - loss: 0.0110 - accuracy: 0.9968 - val_loss: 0.0226 - val_accuracy: 0.9942\n"
          ],
          "name": "stdout"
        }
      ]
    },
    {
      "cell_type": "code",
      "metadata": {
        "id": "NnFA4YpoS5Us",
        "colab_type": "code",
        "colab": {
          "base_uri": "https://localhost:8080/",
          "height": 265
        },
        "outputId": "f94c5aed-0858-4e9f-b9e6-82640d0a0e70"
      },
      "source": [
        "plt.figure(0)\n",
        "plt.plot(hist.history['loss'],'g')\n",
        "plt.plot(hist.history['val_loss'],'b')\n",
        "plt.plot(hist.history['accuracy'],'r')\n",
        "plt.plot(hist.history['val_accuracy'],'black')\n",
        "plt.show()"
      ],
      "execution_count": 23,
      "outputs": [
        {
          "output_type": "display_data",
          "data": {
            "image/png": "[encoded data removed]",
            "text/plain": [
              "<Figure size 432x288 with 1 Axes>"
            ]
          },
          "metadata": {
            "tags": [],
            "needs_background": "light"
          }
        }
      ]
    },
    {
      "cell_type": "code",
      "metadata": {
        "id": "QqoMHU4-1sib",
        "colab_type": "code",
        "colab": {
          "base_uri": "https://localhost:8080/",
          "height": 53
        },
        "outputId": "e5debf6b-727d-45f5-8fed-b245ac779bfd"
      },
      "source": [
        "model.evaluate(XTest,YTest)"
      ],
      "execution_count": 17,
      "outputs": [
        {
          "output_type": "stream",
          "text": [
            "10000/10000 [==============================] - 1s 94us/step\n"
          ],
          "name": "stdout"
        },
        {
          "output_type": "execute_result",
          "data": {
            "text/plain": [
              "[0.06832561327039836, 0.9869999885559082]"
            ]
          },
          "metadata": {
            "tags": []
          },
          "execution_count": 17
        }
      ]
    },
    {
      "cell_type": "code",
      "metadata": {
        "id": "3NS_ZNnQ2Q3u",
        "colab_type": "code",
        "colab": {
          "base_uri": "https://localhost:8080/",
          "height": 377
        },
        "outputId": "dbd1f2b3-dfd7-41cc-d56c-608ea386df50"
      },
      "source": [
        "# Build a Model without Pooling?\n",
        "# Why Pooling is Important -> Reduce Params, Increase Receptive Field of the Network!\n",
        "\n",
        "model = Sequential()\n",
        "model.add(Conv2D(32,(3,3),activation='relu',input_shape=(28,28,1)))\n",
        "#model.add(MaxPool2D((2,2)))\n",
        "model.add(Conv2D(64,(3,3),activation='relu',input_shape=(28,28,1)))\n",
        "#model.add(MaxPool2D((2,2)))\n",
        "model.add(Conv2D(64,(3,3),activation='relu',input_shape=(28,28,1)))\n",
        "model.add(Flatten())\n",
        "model.add(Dense(64,activation='relu'))\n",
        "model.add(Dense(10,activation='softmax'))\n",
        "model.summary()"
      ],
      "execution_count": 14,
      "outputs": [
        {
          "output_type": "stream",
          "text": [
            "Model: \"sequential_2\"\n",
            "_________________________________________________________________\n",
            "Layer (type)                 Output Shape              Param #   \n",
            "=================================================================\n",
            "conv2d_4 (Conv2D)            (None, 26, 26, 32)        320       \n",
            "_________________________________________________________________\n",
            "conv2d_5 (Conv2D)            (None, 24, 24, 64)        18496     \n",
            "_________________________________________________________________\n",
            "conv2d_6 (Conv2D)            (None, 22, 22, 64)        36928     \n",
            "_________________________________________________________________\n",
            "flatten_2 (Flatten)          (None, 30976)             0         \n",
            "_________________________________________________________________\n",
            "dense_3 (Dense)              (None, 64)                1982528   \n",
            "_________________________________________________________________\n",
            "dense_4 (Dense)              (None, 10)                650       \n",
            "=================================================================\n",
            "Total params: 2,038,922\n",
            "Trainable params: 2,038,922\n",
            "Non-trainable params: 0\n",
            "_________________________________________________________________\n"
          ],
          "name": "stdout"
        }
      ]
    },
    {
      "cell_type": "code",
      "metadata": {
        "id": "2RqPj-rZ8tfZ",
        "colab_type": "code",
        "colab": {
          "base_uri": "https://localhost:8080/",
          "height": 1000
        },
        "outputId": "dda57618-1256-4c79-eb0a-02265a56b21e"
      },
      "source": [
        "# example of loading the mnist dataset\n",
        "\n",
        "# summarize loaded dataset\n",
        "print('Train: X=%s, y=%s' % (XTrain.shape, YTrain.shape))\n",
        "print('Test: X=%s, y=%s' % (XTest.shape, YTest.shape))\n",
        "# plot first few images\n",
        "for i in range(10):\n",
        "    plt.imshow(XTrain[i].reshape(28,28),cmap='gray')\n",
        "    plt.show()\n",
        "plt.show()"
      ],
      "execution_count": 27,
      "outputs": [
        {
          "output_type": "stream",
          "text": [
            "Train: X=(60000, 28, 28, 1), y=(60000, 10)\n",
            "Test: X=(10000, 28, 28, 1), y=(10000, 10)\n"
          ],
          "name": "stdout"
        },
        {
          "output_type": "display_data",
          "data": {
            "image/png": "[encoded data removed]",
            "text/plain": [
              "<Figure size 432x288 with 1 Axes>"
            ]
          },
          "metadata": {
            "tags": [],
            "needs_background": "light"
          }
        },
        {
          "output_type": "display_data",
          "data": {
            "image/png": "[encoded data removed]",
            "text/plain": [
              "<Figure size 432x288 with 1 Axes>"
            ]
          },
          "metadata": {
            "tags": [],
            "needs_background": "light"
          }
        },
        {
          "output_type": "display_data",
          "data": {
            "image/png": "[encoded data removed]",
            "text/plain": [
              "<Figure size 432x288 with 1 Axes>"
            ]
          },
          "metadata": {
            "tags": [],
            "needs_background": "light"
          }
        },
        {
          "output_type": "display_data",
          "data": {
            "image/png": "[encoded data removed]",
            "text/plain": [
              "<Figure size 432x288 with 1 Axes>"
            ]
          },
          "metadata": {
            "tags": [],
            "needs_background": "light"
          }
        },
        {
          "output_type": "display_data",
          "data": {
            "image/png": "[encoded data removed]",
            "text/plain": [
              "<Figure size 432x288 with 1 Axes>"
            ]
          },
          "metadata": {
            "tags": [],
            "needs_background": "light"
          }
        },
        {
          "output_type": "display_data",
          "data": {
            "image/png": "[encoded data removed]",
            "text/plain": [
              "<Figure size 432x288 with 1 Axes>"
            ]
          },
          "metadata": {
            "tags": [],
            "needs_background": "light"
          }
        },
        {
          "output_type": "display_data",
          "data": {
            "image/png": "[encoded data removed]",
            "text/plain": [
              "<Figure size 432x288 with 1 Axes>"
            ]
          },
          "metadata": {
            "tags": [],
            "needs_background": "light"
          }
        },
        {
          "output_type": "display_data",
          "data": {
            "image/png": "[encoded data removed]",
            "text/plain": [
              "<Figure size 432x288 with 1 Axes>"
            ]
          },
          "metadata": {
            "tags": [],
            "needs_background": "light"
          }
        },
        {
          "output_type": "display_data",
          "data": {
            "image/png": "[encoded data removed]",
            "text/plain": [
              "<Figure size 432x288 with 1 Axes>"
            ]
          },
          "metadata": {
            "tags": [],
            "needs_background": "light"
          }
        },
        {
          "output_type": "display_data",
          "data": {
            "image/png": "[encoded data removed]",
            "text/plain": [
              "<Figure size 432x288 with 1 Axes>"
            ]
          },
          "metadata": {
            "tags": [],
            "needs_background": "light"
          }
        }
      ]
    },
    {
      "cell_type": "code",
      "metadata": {
        "id": "Edpd_qQyXgMq",
        "colab_type": "code",
        "colab": {}
      },
      "source": [
        ""
      ],
      "execution_count": null,
      "outputs": []
    }
  ]
}